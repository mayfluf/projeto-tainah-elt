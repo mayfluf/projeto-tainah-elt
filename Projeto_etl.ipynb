{
  "nbformat": 4,
  "nbformat_minor": 0,
  "metadata": {
    "colab": {
      "provenance": [],
      "authorship_tag": "ABX9TyNPkzFRxLiRKFQnSLLWkowC",
      "include_colab_link": true
    },
    "kernelspec": {
      "name": "python3",
      "display_name": "Python 3"
    },
    "language_info": {
      "name": "python"
    }
  },
  "cells": [
    {
      "cell_type": "markdown",
      "metadata": {
        "id": "view-in-github",
        "colab_type": "text"
      },
      "source": [
        "<a href=\"https://colab.research.google.com/github/mayfluf/projeto-tainah-elt/blob/main/Projeto_etl.ipynb\" target=\"_parent\"><img src=\"https://colab.research.google.com/assets/colab-badge.svg\" alt=\"Open In Colab\"/></a>"
      ]
    },
    {
      "cell_type": "code",
      "execution_count": null,
      "metadata": {
        "id": "VaPzFgpc10MS"
      },
      "outputs": [],
      "source": [
        "# ETL COMPLETO - Projeto Mercado Livre\n",
        "\n",
        "# Bibliotecas\n",
        "import pandas as pd\n",
        "import requests\n",
        "import mysql.connector\n",
        "from pymongo import MongoClient\n",
        "from google.cloud import storage, bigquery\n",
        "from google.colab import auth\n",
        "from mysql.connector import Error\n"
      ]
    },
    {
      "cell_type": "code",
      "source": [
        "# 1 - Coleta de dados via API do Mercado Livre\n",
        "termo_de_busca = \"nootbook\"\n",
        "url = f\"https://api.mercadolibre.com/sites/MLB/search?q={termo_de_busca}\"\n",
        "response = requests.get(url)\n",
        "\n",
        "if response.status_code == 200:\n",
        "    dados = response.json()\n",
        "    produtos = [\n",
        "        {\n",
        "            \"produto\": item.get('title'),\n",
        "            \"valor\": item.get('price'),\n",
        "            \"link\": item.get('permalink'),\n",
        "            \"condicao\": item.get('condition'),\n",
        "            \"categoria\": item.get('category_id')\n",
        "        } for item in dados.get('results', [])\n",
        "    ]\n",
        "    df = pd.DataFrame(produtos)\n",
        "else:\n",
        "    raise Exception(f\"Erro ao acessar API: {response.status_code}\")\n"
      ],
      "metadata": {
        "id": "AdtnPV0v2Xj2"
      },
      "execution_count": null,
      "outputs": []
    },
    {
      "cell_type": "code",
      "source": [
        "# 2 - Transformações\n",
        "# Já foram aplicadas durante a extração: nomes padronizados, colunas relevantes, remoção de nulos se necessário\n",
        "df.dropna(inplace=Tr"
      ],
      "metadata": {
        "id": "zviIWDn22TuC"
      },
      "execution_count": null,
      "outputs": []
    },
    {
      "cell_type": "code",
      "source": [
        "# 3 - Salvando CSV\n",
        "csv_path = 'mercado.csv'\n",
        "df.to_csv(csv_path, index=False)\n",
        "\n"
      ],
      "metadata": {
        "id": "yHnTR09I2SL4"
      },
      "execution_count": null,
      "outputs": []
    },
    {
      "cell_type": "code",
      "source": [
        "# 4 - Upload para bucket GCP\n",
        "auth.authenticate_user()\n",
        "project_id = \"turmas-dados\"\n",
        "!gcloud config set project {project_id}\n",
        "\n",
        "bucket_name = \"etl-basico\"\n",
        "client = storage.Client()\n",
        "bucket = client.bucket(bucket_name)\n",
        "blob = bucket.blob(\"mercadolivre_douglas/mercado.csv\")\n",
        "blob.upload_from_filename(csv_path)\n",
        "print(f\"Arquivo CSV enviado ao bucket: {bucket_name}\")"
      ],
      "metadata": {
        "id": "EgyDjBAG2O9I"
      },
      "execution_count": null,
      "outputs": []
    },
    {
      "cell_type": "code",
      "source": [
        "\n",
        "# 5 - Envio para MongoDB Atlas\n",
        "mongo_uri = \"mongodb+srv://<usuario>:<senha>@cluster0.xu3hl.mongodb.net/?retryWrites=true&w=majority\"\n",
        "mongo_client = MongoClient(mongo_uri)\n",
        "mongo_db = mongo_client['mercado']\n",
        "mongo_collection = df.to_dict(orient='records')\n",
        "mongo_db.webcam.insert_many(mongo_collection)\n"
      ],
      "metadata": {
        "id": "v_3zu58e2MrU"
      },
      "execution_count": null,
      "outputs": []
    },
    {
      "cell_type": "code",
      "source": [
        "# 6 - Inserção em Cloud SQL (MySQL)\n",
        "config = {\n",
        "    'user': 'root',\n",
        "    'password': '',\n",
        "    'host': '34.70.26.188',\n",
        "    'database': 'mercado'\n",
        "}\n",
        "\n",
        "try:\n",
        "    conn = mysql.connector.connect(**config)\n",
        "    cursor = conn.cursor()\n",
        "    cursor.execute(\"\"\"\n",
        "        CREATE TABLE IF NOT EXISTS webcam (\n",
        "            produto VARCHAR(255),\n",
        "            valor DECIMAL(11,2),\n",
        "            link VARCHAR(255),\n",
        "            condicao VARCHAR(255),\n",
        "            categoria VARCHAR(255)\n",
        "        );\n",
        "    \"\"\")\n",
        "    for _, row in df.iterrows():\n",
        "        cursor.execute(\"\"\"\n",
        "            INSERT INTO webcam (produto, valor, link, condicao, categoria)\n",
        "            VALUES (%s, %s, %s, %s, %s);\n",
        "        \"\"\", tuple(row))\n",
        "    conn.commit()\n",
        "    print(\"Dados enviados ao MySQL com sucesso!\")\n",
        "except Error as e:\n",
        "    print(\"Erro ao conectar ao MySQL:\", e)\n",
        "finally:\n",
        "    if conn.is_connected():\n",
        "        cursor.close()\n",
        "        conn.close()\n",
        "\n"
      ],
      "metadata": {
        "id": "aeCVbHY02DDC"
      },
      "execution_count": null,
      "outputs": []
    },
    {
      "cell_type": "code",
      "source": [
        "\n",
        "# 7 - Envio para BigQuery (mercado2)\n",
        "client_bq = bigquery.Client()\n",
        "table_id = 'turmas-dados.mercado2.webcam'\n",
        "df.to_gbq(table_id, project_id=project_id, if_exists='replace')\n"
      ],
      "metadata": {
        "id": "a92pupZF1_oA"
      },
      "execution_count": null,
      "outputs": []
    }
  ]
}